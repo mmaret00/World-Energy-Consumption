{
 "cells": [
  {
   "attachments": {},
   "cell_type": "markdown",
   "metadata": {},
   "source": [
    "# 1. Instalacije i importanje"
   ]
  },
  {
   "cell_type": "code",
   "execution_count": null,
   "metadata": {},
   "outputs": [],
   "source": [
    "pip install seaborn"
   ]
  },
  {
   "cell_type": "code",
   "execution_count": null,
   "metadata": {},
   "outputs": [],
   "source": [
    "pip install pandas"
   ]
  },
  {
   "cell_type": "code",
   "execution_count": null,
   "metadata": {},
   "outputs": [],
   "source": [
    "pip install plotly"
   ]
  },
  {
   "cell_type": "code",
   "execution_count": null,
   "metadata": {},
   "outputs": [],
   "source": [
    "pip install missingno"
   ]
  },
  {
   "cell_type": "code",
   "execution_count": null,
   "metadata": {},
   "outputs": [],
   "source": [
    "pip install geopandas"
   ]
  },
  {
   "cell_type": "code",
   "execution_count": null,
   "metadata": {},
   "outputs": [],
   "source": [
    "import seaborn as sns\n",
    "import pandas as pd\n",
    "import matplotlib.pyplot as plt\n",
    "import geopandas as gpd"
   ]
  },
  {
   "attachments": {},
   "cell_type": "markdown",
   "metadata": {},
   "source": [
    "# 2. Izvlačenje podataka iz dataseta u kojem se nalaze podaci o potrošnji i uporabi energije po državama kroz godine"
   ]
  },
  {
   "cell_type": "code",
   "execution_count": null,
   "metadata": {},
   "outputs": [],
   "source": [
    "wec = pd.read_csv(\"./datasets/world_energy_consumption.csv\")"
   ]
  },
  {
   "cell_type": "code",
   "execution_count": null,
   "metadata": {},
   "outputs": [],
   "source": [
    "# Iz dataseta uzmemo stupce koji označavaju pojedine izvore iz kojih se dobije elektročna energija\n",
    "izvori = ['coal_electricity','oil_electricity','gas_electricity','hydro_electricity','nuclear_electricity','wind_electricity','solar_electricity']\n",
    "\n",
    "# Sortiramo po godini i državi, pa od pojedinih izvora izvučemo omjer tog izvora u odnosu na ukupnu proizvodnju električne energije u postotcima\n",
    "izvoriPoDrzaviIGodini = wec[['year','country']]\n",
    "wec['ukupno'] = wec[izvori].sum(axis=1)\n",
    "for i in izvori:\n",
    "    izvoriPoDrzaviIGodini[f\"{i}%\"] = (wec[i]/wec['ukupno']) * 100\n",
    "\n",
    "# Uzmemo samo godine ovog tisućljeća\n",
    "izvoriPoDrzaviIGodini = izvoriPoDrzaviIGodini[izvoriPoDrzaviIGodini['year']>=2000]"
   ]
  },
  {
   "attachments": {},
   "cell_type": "markdown",
   "metadata": {},
   "source": [
    "# 3. Tipova izvora električne energije u Hrvatskoj i Europi"
   ]
  },
  {
   "cell_type": "code",
   "execution_count": null,
   "metadata": {},
   "outputs": [],
   "source": [
    "# Izdvojimo podatke za Hrvatsku\n",
    "hrvatska = izvoriPoDrzaviIGodini[izvoriPoDrzaviIGodini['country']=='Croatia'].groupby('year').mean()\n",
    "\n",
    "# Za Europu koristimo dataset 'Countries-Continents.csv' koji sadrži parove kontinent-država za sve države svijeta\n",
    "# Zbrojimo ukupnu potrošnju svih europskih država\n",
    "kontinenti = pd.read_csv('./datasets/Countries-Continents.csv')\n",
    "europa = izvoriPoDrzaviIGodini.loc[izvoriPoDrzaviIGodini['country']\n",
    "    .isin(kontinenti[kontinenti['Continent'] == 'Europe']['Country'])].groupby('year').sum()\n",
    "\n",
    "\n",
    "# Nazivi za pojedine grafove i boje koje se koriste u grafovima\n",
    "naziviGrafova = {'Ugljen':'coal_electricity', 'Nafta': 'oil_electricity', 'Plin' : 'gas_electricity','Hidro' : 'hydro_electricity',\n",
    "    'Nuklearna' : 'nuclear_electricity','Vjetar' : 'wind_electricity','Solarna' : 'solar_electricity'}\n",
    "bojeTipovaEnergije = ['#521c1c','#8b62cc','#a6c965','#1d22bf','#03ff3d','#ede8e8','#f0f002']\n",
    "\n",
    "# Pomoć pri crtanju grafova\n",
    "drzave = [hrvatska, europa]\n",
    "imeDržaveZaNaslovGrafa = ['Hrvatskoj', 'čitavoj Europi']\n",
    "\n",
    "\n",
    "# Linijski grafovi koji prikazuju tipove izvora električne energije za Hrvatsku i Europu kroz godine\n",
    "fig, ax = plt.subplots(2, figsize=(15, 10))\n",
    "br = 0\n",
    "for drzava in drzave:\n",
    "    ax[br].plot(drzava, label = naziviGrafova)\n",
    "    ax[br].set_title(f\"Raspodjela tipova izvora električne energije u {imeDržaveZaNaslovGrafa[br]} po godinama (2000. - 2020.)\")\n",
    "    ax[br].legend()\n",
    "    br = br+1\n",
    "\n",
    "# Pie chartovi koji prikazuju raspodjelu tipova izvora električne energije u Hrvatskoj i Europi 2019. godine\n",
    "fig, ax =  plt.subplots(1, 2, figsize=(15, 10))\n",
    "br = 0\n",
    "for drzava in drzave:\n",
    "    pieChart=drzava[(drzava.index.values == 2019)]\n",
    "    ax[br].pie(pieChart.iloc[0].values, colors=bojeTipovaEnergije, labels=naziviGrafova, autopct='%1.2f%%')\n",
    "    ax[br].set_title(f\"Raspodjela tipova izvora električne energije u {imeDržaveZaNaslovGrafa[br]} 2019.\")\n",
    "    br = br+1\n",
    "\n",
    "plt.show()"
   ]
  },
  {
   "attachments": {},
   "cell_type": "markdown",
   "metadata": {},
   "source": [
    "# 4. Potrošnja energije iz obnovljivih izvora u Hrvatskoj i svijetu"
   ]
  },
  {
   "cell_type": "code",
   "execution_count": null,
   "metadata": {},
   "outputs": [],
   "source": [
    "# Označavanje izvora energije koji su obnovljivi i dohvaćanje podataka o njihovoj potrošnji\n",
    "potrosnja = [\"iso_code\",\"country\", \"year\", \"renewables_consumption\",\"other_renewable_consumption\",\"hydro_consumption\",\"solar_consumption\",\"wind_consumption\", \"population\"]\n",
    "potrosnja_obnovljivi = [\"hydro_consumption\",\"solar_consumption\",\"wind_consumption\",\"other_renewable_consumption\"]\n",
    "potrosnja_df = wec[potrosnja]\n",
    "# Potrebno je promijeniti ime stupca 'iso_code' u 'iso_a3' zbog kasnijeg korištenja shapefile datoteke za prikaz karte svijeta\n",
    "potrosnja_df.rename({\"iso_code\":\"iso_a3\"}, axis=1, inplace=True)\n",
    "\n",
    "#Uzmemo podatke iz razdoblja 2000. - 2019.\n",
    "godine = potrosnja_df[\"year\"].isin(range(2000,2019))\n",
    "potrosnja_df = potrosnja_df[godine]\n",
    "bar = potrosnja_df.groupby('year')[potrosnja_obnovljivi].sum()\n",
    "bar.reset_index(level=0, inplace=True)"
   ]
  },
  {
   "cell_type": "code",
   "execution_count": null,
   "metadata": {},
   "outputs": [],
   "source": [
    "# Barplot koji prikazuje potrošnju energije iz obnovljivih izvora u ovom tisućljeću za cijeli svijet\n",
    "bar.plot(x='year', xlabel='Godina', ylabel='TWh', kind='bar', stacked=True, figsize=(20,6),\n",
    "        title='Potrošnje energije iz obnovljivih izvora u Svijetu')"
   ]
  },
  {
   "cell_type": "code",
   "execution_count": null,
   "metadata": {},
   "outputs": [],
   "source": [
    "# Barplot koji prikazuje potrošnju energije iz obnovljivih izvora u ovom tisućljeću samo za Hrvatsku\n",
    "bar2 = potrosnja_df[potrosnja_df['country']=='Croatia'].groupby('year')[potrosnja_obnovljivi].sum()\n",
    "bar2.reset_index(level=0, inplace=True)\n",
    "\n",
    "bar2.plot(x='year', xlabel='Godina', ylabel='TWh', kind='bar', stacked=True, figsize=(20,6),\n",
    "        title='Potrošnje energije iz obnovljivih izvora u Hrvatskoj')"
   ]
  },
  {
   "cell_type": "code",
   "execution_count": null,
   "metadata": {},
   "outputs": [],
   "source": [
    "# Iz grafova se vidi se da u Hrvatskoj i u svijetu raste potrošnja energije dobivene od sunca, vjetra, i drugih obnovljivih izvora energije."
   ]
  },
  {
   "attachments": {},
   "cell_type": "markdown",
   "metadata": {},
   "source": [
    "# 5. Potrošnja energije iz obnovljivih izvora po državama"
   ]
  },
  {
   "cell_type": "code",
   "execution_count": null,
   "metadata": {},
   "outputs": [],
   "source": [
    "# Učitavanje shapefile datoteke koja sadrži kartu svijeta\n",
    "drzave = gpd.read_file(\"./all_countries_shapefile/all_countries.shp\")\n",
    "karta = drzave[[\"iso_a3\",\"geometry\"]]\n",
    "\n",
    "# Merge shapefilea sa podacima o potrošnji energije\n",
    "kartaPotrosnjeEnergije = potrosnja_df.merge(karta, on='iso_a3')\n",
    "obnovljivi_gdf = gpd.GeoDataFrame(\n",
    "    kartaPotrosnjeEnergije, geometry=kartaPotrosnjeEnergije[\"geometry\"])"
   ]
  },
  {
   "cell_type": "code",
   "execution_count": null,
   "metadata": {},
   "outputs": [],
   "source": [
    "# Izrada grafa na karti svijeta\n",
    "fig, ax = plt.subplots(1, figsize=(20, 6))\n",
    "ax.axis('off')\n",
    "ax.set_title('Potrošnja energije iz obnovljivih izvora po državama u TWh')\n",
    "\n",
    "obnovljivi_gdf.plot(column='renewables_consumption', cmap=\"Spectral\", ax=ax, legend=True)"
   ]
  },
  {
   "attachments": {},
   "cell_type": "markdown",
   "metadata": {},
   "source": [
    "# 6. Potrošnja energije iz obnovljivih izvora po europskim državama"
   ]
  },
  {
   "cell_type": "code",
   "execution_count": null,
   "metadata": {},
   "outputs": [],
   "source": [
    "# Označavanje izvora energije koji su obnovljivi i dohvaćanje podataka o njihovoj potrošnji\n",
    "potrosnja = [\"country\", \"year\", \"other_renewable_consumption\",\"hydro_consumption\",\"solar_consumption\",\"wind_consumption\"]\n",
    "potrosnja_obnovljivi = [\"hydro_consumption\",\"solar_consumption\",\"wind_consumption\",\"other_renewable_consumption\"]\n",
    "potrosnja_df = wec[potrosnja]\n",
    "\n",
    "# Dohvaćanje podataka o europskim državama u razdoblju od 2000. do 2019.\n",
    "europa = kontinenti[kontinenti['Continent'] == 'Europe']['Country']\n",
    "godine = potrosnja_df[\"year\"].isin(range(2000,2019))\n",
    "potrosnja_df = potrosnja_df.loc[potrosnja_df['country'].isin(europa)]\n",
    "potrosnja_df = potrosnja_df[godine]\n",
    "\n",
    "# Izbacivanje država kojima su sve vrijednosti jednake nuli\n",
    "potrosnja_df=potrosnja_df[potrosnja_df!=0].dropna()\n",
    "\n",
    "# Zbrajanje potrošnje svih energija obnovljivih izvora\n",
    "potrosnja_df['ukupno'] = 0\n",
    "for izvor in potrosnja_obnovljivi:\n",
    "    potrosnja_df['ukupno'] = potrosnja_df['ukupno'] + potrosnja_df[izvor]"
   ]
  },
  {
   "cell_type": "code",
   "execution_count": null,
   "metadata": {},
   "outputs": [],
   "source": [
    "# Izrada heatmape koja prikazuje odnos države, godine, i zbroja potrošnje svih energija obnovljivih izvora\n",
    "plt.figure(figsize=(20, 18))\n",
    "\n",
    "graf = sns.heatmap(pd.crosstab(potrosnja_df['country'], potrosnja_df['year'], values=potrosnja_df['ukupno'], \n",
    "    aggfunc='sum'), annot=True, cmap = 'Greens', fmt='g')\n",
    "    \n",
    "plt.title('Ukupna potrošnja energije iz obnovljivih izvora u TWh')\n",
    "plt.xlabel(\"Godina\")\n",
    "plt.ylabel(\"Država\")"
   ]
  }
 ],
 "metadata": {
  "kernelspec": {
   "display_name": "Python 3",
   "language": "python",
   "name": "python3"
  },
  "language_info": {
   "codemirror_mode": {
    "name": "ipython",
    "version": 3
   },
   "file_extension": ".py",
   "mimetype": "text/x-python",
   "name": "python",
   "nbconvert_exporter": "python",
   "pygments_lexer": "ipython3",
   "version": "3.8.10 (tags/v3.8.10:3d8993a, May  3 2021, 11:48:03) [MSC v.1928 64 bit (AMD64)]"
  },
  "orig_nbformat": 4,
  "vscode": {
   "interpreter": {
    "hash": "942e5c06e57fdbe6fbbbfbc3d8836164c35e3aebb157971be75f763d155ba9c6"
   }
  }
 },
 "nbformat": 4,
 "nbformat_minor": 2
}
